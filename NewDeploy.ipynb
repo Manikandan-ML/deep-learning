{
  "nbformat": 4,
  "nbformat_minor": 0,
  "metadata": {
    "colab": {
      "name": "NewDeploy.ipynb",
      "provenance": [],
      "collapsed_sections": []
    },
    "kernelspec": {
      "name": "python3",
      "display_name": "Python 3"
    },
    "language_info": {
      "name": "python"
    },
    "widgets": {
      "application/vnd.jupyter.widget-state+json": {
        "6fd132ff51e74cad907b08c65c93fdc9": {
          "model_module": "@jupyter-widgets/controls",
          "model_name": "FileUploadModel",
          "model_module_version": "1.5.0",
          "state": {
            "_view_name": "FileUploadView",
            "_counter": 1,
            "style": "IPY_MODEL_977b7cacebba4a7097edc89d49b44fb9",
            "_dom_classes": [],
            "description": "Upload",
            "multiple": false,
            "_model_name": "FileUploadModel",
            "data": [
              null
            ],
            "button_style": "",
            "_view_module": "@jupyter-widgets/controls",
            "_model_module_version": "1.5.0",
            "accept": "",
            "_view_count": null,
            "disabled": false,
            "_view_module_version": "1.5.0",
            "error": "",
            "description_tooltip": null,
            "metadata": [
              {
                "name": "New Image1.jpg",
                "type": "image/jpeg",
                "size": 193931,
                "lastModified": 1629574175908
              }
            ],
            "_model_module": "@jupyter-widgets/controls",
            "layout": "IPY_MODEL_0e1010610da4487c817f2ffe5839caf6",
            "icon": "upload"
          }
        },
        "977b7cacebba4a7097edc89d49b44fb9": {
          "model_module": "@jupyter-widgets/controls",
          "model_name": "ButtonStyleModel",
          "model_module_version": "1.5.0",
          "state": {
            "_view_name": "StyleView",
            "_model_name": "ButtonStyleModel",
            "_view_module": "@jupyter-widgets/base",
            "_model_module_version": "1.5.0",
            "_view_count": null,
            "button_color": null,
            "font_weight": "",
            "_view_module_version": "1.2.0",
            "_model_module": "@jupyter-widgets/controls"
          }
        },
        "0e1010610da4487c817f2ffe5839caf6": {
          "model_module": "@jupyter-widgets/base",
          "model_name": "LayoutModel",
          "model_module_version": "1.2.0",
          "state": {
            "_view_name": "LayoutView",
            "grid_template_rows": null,
            "right": null,
            "justify_content": null,
            "_view_module": "@jupyter-widgets/base",
            "overflow": null,
            "_model_module_version": "1.2.0",
            "_view_count": null,
            "flex_flow": null,
            "width": null,
            "min_width": null,
            "border": null,
            "align_items": null,
            "bottom": null,
            "_model_module": "@jupyter-widgets/base",
            "top": null,
            "grid_column": null,
            "overflow_y": null,
            "overflow_x": null,
            "grid_auto_flow": null,
            "grid_area": null,
            "grid_template_columns": null,
            "flex": null,
            "_model_name": "LayoutModel",
            "justify_items": null,
            "grid_row": null,
            "max_height": null,
            "align_content": null,
            "visibility": null,
            "align_self": null,
            "height": null,
            "min_height": null,
            "padding": null,
            "grid_auto_rows": null,
            "grid_gap": null,
            "max_width": null,
            "order": null,
            "_view_module_version": "1.2.0",
            "grid_template_areas": null,
            "object_position": null,
            "object_fit": null,
            "grid_auto_columns": null,
            "margin": null,
            "display": null,
            "left": null
          }
        },
        "6120fd3043374ea8ad668d5f49ffc94d": {
          "model_module": "@jupyter-widgets/controls",
          "model_name": "ButtonModel",
          "model_module_version": "1.5.0",
          "state": {
            "_view_name": "ButtonView",
            "style": "IPY_MODEL_8e217666a3364f2aa58d3d1ff75f26b3",
            "_dom_classes": [],
            "description": "Classify",
            "_model_name": "ButtonModel",
            "button_style": "",
            "_view_module": "@jupyter-widgets/controls",
            "_model_module_version": "1.5.0",
            "tooltip": "",
            "_view_count": null,
            "disabled": false,
            "_view_module_version": "1.5.0",
            "layout": "IPY_MODEL_29f5debe7b5b431ba5e65ad812549016",
            "_model_module": "@jupyter-widgets/controls",
            "icon": ""
          }
        },
        "8e217666a3364f2aa58d3d1ff75f26b3": {
          "model_module": "@jupyter-widgets/controls",
          "model_name": "ButtonStyleModel",
          "model_module_version": "1.5.0",
          "state": {
            "_view_name": "StyleView",
            "_model_name": "ButtonStyleModel",
            "_view_module": "@jupyter-widgets/base",
            "_model_module_version": "1.5.0",
            "_view_count": null,
            "button_color": null,
            "font_weight": "",
            "_view_module_version": "1.2.0",
            "_model_module": "@jupyter-widgets/controls"
          }
        },
        "29f5debe7b5b431ba5e65ad812549016": {
          "model_module": "@jupyter-widgets/base",
          "model_name": "LayoutModel",
          "model_module_version": "1.2.0",
          "state": {
            "_view_name": "LayoutView",
            "grid_template_rows": null,
            "right": null,
            "justify_content": null,
            "_view_module": "@jupyter-widgets/base",
            "overflow": null,
            "_model_module_version": "1.2.0",
            "_view_count": null,
            "flex_flow": null,
            "width": null,
            "min_width": null,
            "border": null,
            "align_items": null,
            "bottom": null,
            "_model_module": "@jupyter-widgets/base",
            "top": null,
            "grid_column": null,
            "overflow_y": null,
            "overflow_x": null,
            "grid_auto_flow": null,
            "grid_area": null,
            "grid_template_columns": null,
            "flex": null,
            "_model_name": "LayoutModel",
            "justify_items": null,
            "grid_row": null,
            "max_height": null,
            "align_content": null,
            "visibility": null,
            "align_self": null,
            "height": null,
            "min_height": null,
            "padding": null,
            "grid_auto_rows": null,
            "grid_gap": null,
            "max_width": null,
            "order": null,
            "_view_module_version": "1.2.0",
            "grid_template_areas": null,
            "object_position": null,
            "object_fit": null,
            "grid_auto_columns": null,
            "margin": null,
            "display": null,
            "left": null
          }
        },
        "c39e4ad4ff6c449688e68850cc7800e6": {
          "model_module": "@jupyter-widgets/controls",
          "model_name": "VBoxModel",
          "model_module_version": "1.5.0",
          "state": {
            "_view_name": "VBoxView",
            "_dom_classes": [],
            "_model_name": "VBoxModel",
            "_view_module": "@jupyter-widgets/controls",
            "_model_module_version": "1.5.0",
            "_view_count": null,
            "_view_module_version": "1.5.0",
            "box_style": "",
            "layout": "IPY_MODEL_b258fc7148094099bd0b74601a011532",
            "_model_module": "@jupyter-widgets/controls",
            "children": [
              "IPY_MODEL_22b6bdfac8674ef881793db1a81ba2f3",
              "IPY_MODEL_64a91ea25d4144898bfd69ece5274bfd",
              "IPY_MODEL_6120fd3043374ea8ad668d5f49ffc94d",
              "IPY_MODEL_ba42f2ba394144019cda3f4d8fc944a3",
              "IPY_MODEL_28bcdf35c34341429b4ee582dd18fa4f"
            ]
          }
        },
        "b258fc7148094099bd0b74601a011532": {
          "model_module": "@jupyter-widgets/base",
          "model_name": "LayoutModel",
          "model_module_version": "1.2.0",
          "state": {
            "_view_name": "LayoutView",
            "grid_template_rows": null,
            "right": null,
            "justify_content": null,
            "_view_module": "@jupyter-widgets/base",
            "overflow": null,
            "_model_module_version": "1.2.0",
            "_view_count": null,
            "flex_flow": null,
            "width": null,
            "min_width": null,
            "border": null,
            "align_items": null,
            "bottom": null,
            "_model_module": "@jupyter-widgets/base",
            "top": null,
            "grid_column": null,
            "overflow_y": null,
            "overflow_x": null,
            "grid_auto_flow": null,
            "grid_area": null,
            "grid_template_columns": null,
            "flex": null,
            "_model_name": "LayoutModel",
            "justify_items": null,
            "grid_row": null,
            "max_height": null,
            "align_content": null,
            "visibility": null,
            "align_self": null,
            "height": null,
            "min_height": null,
            "padding": null,
            "grid_auto_rows": null,
            "grid_gap": null,
            "max_width": null,
            "order": null,
            "_view_module_version": "1.2.0",
            "grid_template_areas": null,
            "object_position": null,
            "object_fit": null,
            "grid_auto_columns": null,
            "margin": null,
            "display": null,
            "left": null
          }
        },
        "22b6bdfac8674ef881793db1a81ba2f3": {
          "model_module": "@jupyter-widgets/controls",
          "model_name": "LabelModel",
          "model_module_version": "1.5.0",
          "state": {
            "_view_name": "LabelView",
            "style": "IPY_MODEL_f4578c841047491e95f541976d55d87a",
            "_dom_classes": [],
            "description": "",
            "_model_name": "LabelModel",
            "placeholder": "​",
            "_view_module": "@jupyter-widgets/controls",
            "_model_module_version": "1.5.0",
            "value": "Select your bear!",
            "_view_count": null,
            "_view_module_version": "1.5.0",
            "description_tooltip": null,
            "_model_module": "@jupyter-widgets/controls",
            "layout": "IPY_MODEL_20644f4db5154e39bceac1ddff44694e"
          }
        },
        "64a91ea25d4144898bfd69ece5274bfd": {
          "model_module": "@jupyter-widgets/controls",
          "model_name": "FileUploadModel",
          "model_module_version": "1.5.0",
          "state": {
            "_view_name": "FileUploadView",
            "_counter": 1,
            "style": "IPY_MODEL_014903771bd848528d2aa7e4e9651926",
            "_dom_classes": [],
            "description": "Upload",
            "multiple": false,
            "_model_name": "FileUploadModel",
            "data": [
              null
            ],
            "button_style": "",
            "_view_module": "@jupyter-widgets/controls",
            "_model_module_version": "1.5.0",
            "accept": "",
            "_view_count": null,
            "disabled": false,
            "_view_module_version": "1.5.0",
            "error": "",
            "description_tooltip": null,
            "metadata": [
              {
                "name": "New Image1.jpg",
                "type": "image/jpeg",
                "size": 193931,
                "lastModified": 1629574175908
              }
            ],
            "_model_module": "@jupyter-widgets/controls",
            "layout": "IPY_MODEL_e8dad7ab699744ae9d6bfa8707e0b1b4",
            "icon": "upload"
          }
        },
        "ba42f2ba394144019cda3f4d8fc944a3": {
          "model_module": "@jupyter-widgets/output",
          "model_name": "OutputModel",
          "model_module_version": "1.0.0",
          "state": {
            "_view_name": "OutputView",
            "msg_id": "",
            "_dom_classes": [],
            "_model_name": "OutputModel",
            "outputs": [
              {
                "output_type": "display_data",
                "data": {
                  "image/png": "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\n",
                  "text/plain": "<PIL.Image.Image image mode=RGB size=128x128 at 0x7FCD9195B810>"
                },
                "metadata": {}
              }
            ],
            "_view_module": "@jupyter-widgets/output",
            "_model_module_version": "1.0.0",
            "_view_count": null,
            "_view_module_version": "1.0.0",
            "layout": "IPY_MODEL_97603bd372054467a42499aa533c7610",
            "_model_module": "@jupyter-widgets/output"
          }
        },
        "28bcdf35c34341429b4ee582dd18fa4f": {
          "model_module": "@jupyter-widgets/controls",
          "model_name": "LabelModel",
          "model_module_version": "1.5.0",
          "state": {
            "_view_name": "LabelView",
            "style": "IPY_MODEL_d6b8c5086ac245cc80753d4defab03aa",
            "_dom_classes": [],
            "description": "",
            "_model_name": "LabelModel",
            "placeholder": "​",
            "_view_module": "@jupyter-widgets/controls",
            "_model_module_version": "1.5.0",
            "value": "Prediction: black; Probability: 1.0000",
            "_view_count": null,
            "_view_module_version": "1.5.0",
            "description_tooltip": null,
            "_model_module": "@jupyter-widgets/controls",
            "layout": "IPY_MODEL_86aa2b0f99a546e0b87b514794db4e6c"
          }
        },
        "f4578c841047491e95f541976d55d87a": {
          "model_module": "@jupyter-widgets/controls",
          "model_name": "DescriptionStyleModel",
          "model_module_version": "1.5.0",
          "state": {
            "_view_name": "StyleView",
            "_model_name": "DescriptionStyleModel",
            "description_width": "",
            "_view_module": "@jupyter-widgets/base",
            "_model_module_version": "1.5.0",
            "_view_count": null,
            "_view_module_version": "1.2.0",
            "_model_module": "@jupyter-widgets/controls"
          }
        },
        "20644f4db5154e39bceac1ddff44694e": {
          "model_module": "@jupyter-widgets/base",
          "model_name": "LayoutModel",
          "model_module_version": "1.2.0",
          "state": {
            "_view_name": "LayoutView",
            "grid_template_rows": null,
            "right": null,
            "justify_content": null,
            "_view_module": "@jupyter-widgets/base",
            "overflow": null,
            "_model_module_version": "1.2.0",
            "_view_count": null,
            "flex_flow": null,
            "width": null,
            "min_width": null,
            "border": null,
            "align_items": null,
            "bottom": null,
            "_model_module": "@jupyter-widgets/base",
            "top": null,
            "grid_column": null,
            "overflow_y": null,
            "overflow_x": null,
            "grid_auto_flow": null,
            "grid_area": null,
            "grid_template_columns": null,
            "flex": null,
            "_model_name": "LayoutModel",
            "justify_items": null,
            "grid_row": null,
            "max_height": null,
            "align_content": null,
            "visibility": null,
            "align_self": null,
            "height": null,
            "min_height": null,
            "padding": null,
            "grid_auto_rows": null,
            "grid_gap": null,
            "max_width": null,
            "order": null,
            "_view_module_version": "1.2.0",
            "grid_template_areas": null,
            "object_position": null,
            "object_fit": null,
            "grid_auto_columns": null,
            "margin": null,
            "display": null,
            "left": null
          }
        },
        "014903771bd848528d2aa7e4e9651926": {
          "model_module": "@jupyter-widgets/controls",
          "model_name": "ButtonStyleModel",
          "model_module_version": "1.5.0",
          "state": {
            "_view_name": "StyleView",
            "_model_name": "ButtonStyleModel",
            "_view_module": "@jupyter-widgets/base",
            "_model_module_version": "1.5.0",
            "_view_count": null,
            "button_color": null,
            "font_weight": "",
            "_view_module_version": "1.2.0",
            "_model_module": "@jupyter-widgets/controls"
          }
        },
        "e8dad7ab699744ae9d6bfa8707e0b1b4": {
          "model_module": "@jupyter-widgets/base",
          "model_name": "LayoutModel",
          "model_module_version": "1.2.0",
          "state": {
            "_view_name": "LayoutView",
            "grid_template_rows": null,
            "right": null,
            "justify_content": null,
            "_view_module": "@jupyter-widgets/base",
            "overflow": null,
            "_model_module_version": "1.2.0",
            "_view_count": null,
            "flex_flow": null,
            "width": null,
            "min_width": null,
            "border": null,
            "align_items": null,
            "bottom": null,
            "_model_module": "@jupyter-widgets/base",
            "top": null,
            "grid_column": null,
            "overflow_y": null,
            "overflow_x": null,
            "grid_auto_flow": null,
            "grid_area": null,
            "grid_template_columns": null,
            "flex": null,
            "_model_name": "LayoutModel",
            "justify_items": null,
            "grid_row": null,
            "max_height": null,
            "align_content": null,
            "visibility": null,
            "align_self": null,
            "height": null,
            "min_height": null,
            "padding": null,
            "grid_auto_rows": null,
            "grid_gap": null,
            "max_width": null,
            "order": null,
            "_view_module_version": "1.2.0",
            "grid_template_areas": null,
            "object_position": null,
            "object_fit": null,
            "grid_auto_columns": null,
            "margin": null,
            "display": null,
            "left": null
          }
        },
        "d6b8c5086ac245cc80753d4defab03aa": {
          "model_module": "@jupyter-widgets/controls",
          "model_name": "DescriptionStyleModel",
          "model_module_version": "1.5.0",
          "state": {
            "_view_name": "StyleView",
            "_model_name": "DescriptionStyleModel",
            "description_width": "",
            "_view_module": "@jupyter-widgets/base",
            "_model_module_version": "1.5.0",
            "_view_count": null,
            "_view_module_version": "1.2.0",
            "_model_module": "@jupyter-widgets/controls"
          }
        },
        "86aa2b0f99a546e0b87b514794db4e6c": {
          "model_module": "@jupyter-widgets/base",
          "model_name": "LayoutModel",
          "model_module_version": "1.2.0",
          "state": {
            "_view_name": "LayoutView",
            "grid_template_rows": null,
            "right": null,
            "justify_content": null,
            "_view_module": "@jupyter-widgets/base",
            "overflow": null,
            "_model_module_version": "1.2.0",
            "_view_count": null,
            "flex_flow": null,
            "width": null,
            "min_width": null,
            "border": null,
            "align_items": null,
            "bottom": null,
            "_model_module": "@jupyter-widgets/base",
            "top": null,
            "grid_column": null,
            "overflow_y": null,
            "overflow_x": null,
            "grid_auto_flow": null,
            "grid_area": null,
            "grid_template_columns": null,
            "flex": null,
            "_model_name": "LayoutModel",
            "justify_items": null,
            "grid_row": null,
            "max_height": null,
            "align_content": null,
            "visibility": null,
            "align_self": null,
            "height": null,
            "min_height": null,
            "padding": null,
            "grid_auto_rows": null,
            "grid_gap": null,
            "max_width": null,
            "order": null,
            "_view_module_version": "1.2.0",
            "grid_template_areas": null,
            "object_position": null,
            "object_fit": null,
            "grid_auto_columns": null,
            "margin": null,
            "display": null,
            "left": null
          }
        },
        "97603bd372054467a42499aa533c7610": {
          "model_module": "@jupyter-widgets/base",
          "model_name": "LayoutModel",
          "model_module_version": "1.2.0",
          "state": {
            "_view_name": "LayoutView",
            "grid_template_rows": null,
            "right": null,
            "justify_content": null,
            "_view_module": "@jupyter-widgets/base",
            "overflow": null,
            "_model_module_version": "1.2.0",
            "_view_count": null,
            "flex_flow": null,
            "width": null,
            "min_width": null,
            "border": null,
            "align_items": null,
            "bottom": null,
            "_model_module": "@jupyter-widgets/base",
            "top": null,
            "grid_column": null,
            "overflow_y": null,
            "overflow_x": null,
            "grid_auto_flow": null,
            "grid_area": null,
            "grid_template_columns": null,
            "flex": null,
            "_model_name": "LayoutModel",
            "justify_items": null,
            "grid_row": null,
            "max_height": null,
            "align_content": null,
            "visibility": null,
            "align_self": null,
            "height": null,
            "min_height": null,
            "padding": null,
            "grid_auto_rows": null,
            "grid_gap": null,
            "max_width": null,
            "order": null,
            "_view_module_version": "1.2.0",
            "grid_template_areas": null,
            "object_position": null,
            "object_fit": null,
            "grid_auto_columns": null,
            "margin": null,
            "display": null,
            "left": null
          }
        }
      }
    }
  },
  "cells": [
    {
      "cell_type": "code",
      "execution_count": 3,
      "metadata": {
        "colab": {
          "base_uri": "https://localhost:8080/"
        },
        "id": "L3_fxBl7i592",
        "outputId": "52c24f9d-caf6-461a-89bb-35bbca5a0bf3"
      },
      "outputs": [
        {
          "output_type": "stream",
          "name": "stdout",
          "text": [
            "\u001b[K     |████████████████████████████████| 720 kB 9.1 MB/s \n",
            "\u001b[K     |████████████████████████████████| 1.2 MB 51.7 MB/s \n",
            "\u001b[K     |████████████████████████████████| 46 kB 5.5 MB/s \n",
            "\u001b[K     |████████████████████████████████| 189 kB 47.7 MB/s \n",
            "\u001b[K     |████████████████████████████████| 56 kB 5.5 MB/s \n",
            "\u001b[K     |████████████████████████████████| 51 kB 432 kB/s \n",
            "\u001b[?25hMounted at /content/gdrive\n",
            "Mounted at /content/drive\n"
          ]
        }
      ],
      "source": [
        "!pip install -Uqq fastbook\n",
        "import fastbook\n",
        "fastbook.setup_book()\n",
        "from google.colab import drive\n",
        "drive.mount('/content/drive')"
      ]
    },
    {
      "cell_type": "code",
      "source": [
        "from fastbook import *\n",
        "from fastai.vision.widgets import *\n"
      ],
      "metadata": {
        "id": "1Y0C0XmQj9hO"
      },
      "execution_count": 6,
      "outputs": []
    },
    {
      "cell_type": "code",
      "source": [
        "root_dir = \"/content/drive/My Drive/\"\n",
        "path = root_dir + 'Export Model/'"
      ],
      "metadata": {
        "id": "w0ps04NnkAgD"
      },
      "execution_count": 32,
      "outputs": []
    },
    {
      "cell_type": "code",
      "source": [
        "learn_inf = load_learner(path + 'lesson2.pkl')"
      ],
      "metadata": {
        "id": "bY_hil8WjWvc"
      },
      "execution_count": 33,
      "outputs": []
    },
    {
      "cell_type": "code",
      "source": [
        "btn_upload = widgets.FileUpload()\n",
        "btn_upload"
      ],
      "metadata": {
        "colab": {
          "base_uri": "https://localhost:8080/",
          "height": 49,
          "referenced_widgets": [
            "6fd132ff51e74cad907b08c65c93fdc9",
            "977b7cacebba4a7097edc89d49b44fb9",
            "0e1010610da4487c817f2ffe5839caf6"
          ]
        },
        "id": "Nxvw6oZCj_pR",
        "outputId": "1aa73592-6a49-48c4-a3ae-36d806fbee34"
      },
      "execution_count": 71,
      "outputs": [
        {
          "output_type": "display_data",
          "data": {
            "application/vnd.jupyter.widget-view+json": {
              "model_id": "6fd132ff51e74cad907b08c65c93fdc9",
              "version_minor": 0,
              "version_major": 2
            },
            "text/plain": [
              "FileUpload(value={}, description='Upload')"
            ]
          },
          "metadata": {}
        }
      ]
    },
    {
      "cell_type": "code",
      "source": [
        "btn_run = widgets.Button(description='Classify')\n",
        "btn_run"
      ],
      "metadata": {
        "colab": {
          "base_uri": "https://localhost:8080/",
          "height": 49,
          "referenced_widgets": [
            "6120fd3043374ea8ad668d5f49ffc94d",
            "8e217666a3364f2aa58d3d1ff75f26b3",
            "29f5debe7b5b431ba5e65ad812549016"
          ]
        },
        "id": "sOKV5s9Hpddp",
        "outputId": "74cc7d0b-2bfe-4dc3-ff78-b56f707a2485"
      },
      "execution_count": 78,
      "outputs": [
        {
          "output_type": "display_data",
          "data": {
            "application/vnd.jupyter.widget-view+json": {
              "model_id": "6120fd3043374ea8ad668d5f49ffc94d",
              "version_minor": 0,
              "version_major": 2
            },
            "text/plain": [
              "Button(description='Classify', style=ButtonStyle())"
            ]
          },
          "metadata": {}
        }
      ]
    },
    {
      "cell_type": "code",
      "source": [
        "def on_click_classify(change):\n",
        "    img = PILImage.create(btn_upload.data[-1])\n",
        "    out_pl.clear_output()\n",
        "    with out_pl: display(img.to_thumb(128,128))\n",
        "    pred,pred_idx,probs = learn_inf.predict(img)\n",
        "    lbl_pred.value = f'Prediction: {pred}; Probability: {probs[pred_idx]:.04f}'\n",
        "\n",
        "btn_run.on_click(on_click_classify)"
      ],
      "metadata": {
        "id": "csAUzuIXo1sm"
      },
      "execution_count": 79,
      "outputs": []
    },
    {
      "cell_type": "code",
      "source": [
        "btn_upload = widgets.FileUpload()"
      ],
      "metadata": {
        "id": "PzQ1Cp4WpRHK"
      },
      "execution_count": 80,
      "outputs": []
    },
    {
      "cell_type": "code",
      "source": [
        "VBox([widgets.Label('Select your bear!'), \n",
        "      btn_upload, btn_run, out_pl, lbl_pred])"
      ],
      "metadata": {
        "colab": {
          "base_uri": "https://localhost:8080/",
          "height": 273,
          "referenced_widgets": [
            "c39e4ad4ff6c449688e68850cc7800e6",
            "b258fc7148094099bd0b74601a011532",
            "22b6bdfac8674ef881793db1a81ba2f3",
            "64a91ea25d4144898bfd69ece5274bfd",
            "6120fd3043374ea8ad668d5f49ffc94d",
            "ba42f2ba394144019cda3f4d8fc944a3",
            "28bcdf35c34341429b4ee582dd18fa4f",
            "f4578c841047491e95f541976d55d87a",
            "20644f4db5154e39bceac1ddff44694e",
            "014903771bd848528d2aa7e4e9651926",
            "e8dad7ab699744ae9d6bfa8707e0b1b4",
            "8e217666a3364f2aa58d3d1ff75f26b3",
            "29f5debe7b5b431ba5e65ad812549016",
            "d6b8c5086ac245cc80753d4defab03aa",
            "86aa2b0f99a546e0b87b514794db4e6c",
            "97603bd372054467a42499aa533c7610"
          ]
        },
        "id": "J-ywoOropTlw",
        "outputId": "8db8aa45-758f-4b1e-f273-754fc02b9db5"
      },
      "execution_count": 81,
      "outputs": [
        {
          "output_type": "display_data",
          "data": {
            "application/vnd.jupyter.widget-view+json": {
              "model_id": "c39e4ad4ff6c449688e68850cc7800e6",
              "version_minor": 0,
              "version_major": 2
            },
            "text/plain": [
              "VBox(children=(Label(value='Select your bear!'), FileUpload(value={}, description='Upload'), Button(descriptio…"
            ]
          },
          "metadata": {}
        },
        {
          "output_type": "display_data",
          "data": {
            "text/html": [
              ""
            ],
            "text/plain": [
              "<IPython.core.display.HTML object>"
            ]
          },
          "metadata": {}
        }
      ]
    },
    {
      "cell_type": "code",
      "source": [
        ""
      ],
      "metadata": {
        "id": "D57trQ4MpYzS"
      },
      "execution_count": null,
      "outputs": []
    }
  ]
}